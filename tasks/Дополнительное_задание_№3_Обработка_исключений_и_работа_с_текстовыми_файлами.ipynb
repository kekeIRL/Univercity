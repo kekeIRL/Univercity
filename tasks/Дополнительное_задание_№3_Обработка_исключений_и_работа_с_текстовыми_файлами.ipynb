{
  "cells": [
    {
      "cell_type": "markdown",
      "metadata": {
        "id": "view-in-github",
        "colab_type": "text"
      },
      "source": [
        "<a href=\"https://colab.research.google.com/github/kekeIRL/Univercity/blob/main/tasks/%D0%94%D0%BE%D0%BF%D0%BE%D0%BB%D0%BD%D0%B8%D1%82%D0%B5%D0%BB%D1%8C%D0%BD%D0%BE%D0%B5_%D0%B7%D0%B0%D0%B4%D0%B0%D0%BD%D0%B8%D0%B5_%E2%84%963_%D0%9E%D0%B1%D1%80%D0%B0%D0%B1%D0%BE%D1%82%D0%BA%D0%B0_%D0%B8%D1%81%D0%BA%D0%BB%D1%8E%D1%87%D0%B5%D0%BD%D0%B8%D0%B9_%D0%B8_%D1%80%D0%B0%D0%B1%D0%BE%D1%82%D0%B0_%D1%81_%D1%82%D0%B5%D0%BA%D1%81%D1%82%D0%BE%D0%B2%D1%8B%D0%BC%D0%B8_%D1%84%D0%B0%D0%B9%D0%BB%D0%B0%D0%BC%D0%B8.ipynb\" target=\"_parent\"><img src=\"https://colab.research.google.com/assets/colab-badge.svg\" alt=\"Open In Colab\"/></a>"
      ]
    },
    {
      "cell_type": "markdown",
      "id": "bb332bf9",
      "metadata": {
        "id": "bb332bf9"
      },
      "source": [
        "# **Дополнительное задание №3. Обработка исключений и работа с текстовыми файлами**"
      ]
    },
    {
      "cell_type": "markdown",
      "id": "aa6808db",
      "metadata": {
        "id": "aa6808db"
      },
      "source": [
        "**БАЗА:**\n",
        "\n",
        "- **Обработка исключений** позволяет перехватывать и обрабатывать ошибки, возникающие при выполнении программы, предотвращая её аварийное завершение.\n",
        "- **Работа с файлами** - важный навык для чтения, записи и обработки текстовой информации в Python.\n",
        "\n",
        "---"
      ]
    },
    {
      "cell_type": "markdown",
      "id": "2478deca",
      "metadata": {
        "id": "2478deca"
      },
      "source": [
        "## **I. Обработка исключений**"
      ]
    },
    {
      "cell_type": "markdown",
      "id": "0ab0b851",
      "metadata": {
        "id": "0ab0b851"
      },
      "source": [
        "### **Пункт №1. Обработка некорректного индекса (IndexError)**"
      ]
    },
    {
      "cell_type": "markdown",
      "id": "46e69e1f",
      "metadata": {
        "id": "46e69e1f"
      },
      "source": [
        "Создайте список из нескольких элементов (например, [10, 20, 30]). Попросите пользователя ввести индекс элемента, который нужно вывести. Если пользователь введёт индекс, выходящий за границы списка, перехватите IndexError и сообщите об этом.\n",
        "\n",
        "**ОБЯЗАТЕЛЬНО:**\n",
        "- Создайте список из минимум 5 элементов\n",
        "- Покажите содержимое списка перед работой\n",
        "- Протестируйте минимум 4 случая (корректный индекс, отрицательный, слишком большой, нечисловое значение)"
      ]
    },
    {
      "cell_type": "code",
      "execution_count": 4,
      "id": "724c5954",
      "metadata": {
        "id": "724c5954",
        "colab": {
          "base_uri": "https://localhost:8080/"
        },
        "outputId": "ae3511e1-c325-482b-d857-9a3097110994"
      },
      "outputs": [
        {
          "name": "stdout",
          "output_type": "stream",
          "text": [
            "[5, 62, 91, 5, 82, 18, 12]\n",
            "1\n",
            "62\n",
            "-1\n",
            "12\n",
            "20\n",
            "list index out of range: некорректный индекс\n",
            "-110\n",
            "list index out of range: некорректный индекс\n",
            "nhjxshjk\n",
            "invalid literal for int() with base 10: 'nhjxshjk': введите число\n",
            "stop\n"
          ]
        }
      ],
      "source": [
        "import random\n",
        "a = [random.randint(1, 100) for i in range(7)]\n",
        "print(a)\n",
        "while 1:\n",
        "  i = input()\n",
        "  if i == 'stop': break\n",
        "  try:\n",
        "    i = int(i)\n",
        "    print(a[i])\n",
        "  except ValueError as e:\n",
        "    print(f\"{e}: введите число\")\n",
        "  except IndexError as e:\n",
        "    print(f\"{e}: некорректный индекс\")\n",
        "  except:\n",
        "    print(e)\n",
        "    break\n"
      ]
    },
    {
      "cell_type": "markdown",
      "id": "7ac84eec",
      "metadata": {
        "id": "7ac84eec"
      },
      "source": [
        "---"
      ]
    },
    {
      "cell_type": "markdown",
      "id": "f8bfb6e1",
      "metadata": {
        "id": "f8bfb6e1"
      },
      "source": [
        "### **Пункт №2. Обработка исключений в цикле**"
      ]
    },
    {
      "cell_type": "markdown",
      "id": "63c3b706",
      "metadata": {
        "id": "63c3b706"
      },
      "source": [
        "Напишите программу, которая запрашивает у пользователя числа и добавляет их в список.\n",
        "- Если пользователь вводит некорректные данные, программа должна выводить сообщение об ошибке и продолжать работу.\n",
        "- Для выхода из программы пользователь должен ввести \"стоп\".\n",
        "\n",
        "**ОБЯЗАТЕЛЬНО:**\n",
        "- Покажите процесс ввода минимум 7 значений (включая ошибочные)\n",
        "- Выведите финальный список и статистику (сколько чисел введено успешно, сколько ошибок)"
      ]
    },
    {
      "cell_type": "markdown",
      "source": [
        "\n",
        "\n",
        "```\n",
        "# Пример:\n",
        "# Введите число: 10\n",
        "# Введите число: текст (Ошибка: это не число)\n",
        "# Введите число: стоп\n",
        "# Итоговый список: [10]\n",
        "```\n",
        "\n"
      ],
      "metadata": {
        "id": "aiWaEPOuoHDS"
      },
      "id": "aiWaEPOuoHDS"
    },
    {
      "cell_type": "code",
      "execution_count": 7,
      "id": "31448e09",
      "metadata": {
        "id": "31448e09",
        "colab": {
          "base_uri": "https://localhost:8080/"
        },
        "outputId": "b7d1f79d-b100-46b1-ae92-c72edcc2b810"
      },
      "outputs": [
        {
          "output_type": "stream",
          "name": "stdout",
          "text": [
            "введите число: 1\n",
            "введите число: 20\n",
            "введите число: 133\n",
            "введите число: mckdk\n",
            "это не число: invalid literal for int() with base 10: 'mckdk'\n",
            "введите число: 6.9\n",
            "это не число: invalid literal for int() with base 10: '6.9'\n",
            "введите число: john balala\n",
            "это не число: invalid literal for int() with base 10: 'john balala'\n",
            "введите число: 987654321\n",
            "введите число: стоп\n",
            "[1, 20, 133, 987654321]\n"
          ]
        }
      ],
      "source": [
        "a = []\n",
        "while 1:\n",
        "  i = input('введите число: ')\n",
        "  if  i.strip(' ').lower() == 'стоп': break\n",
        "  try:\n",
        "    i = int(i)\n",
        "    a.append(i)\n",
        "  except ValueError as e:\n",
        "    print(f'это не число: {e}')\n",
        "print(a)\n",
        "\n",
        "\n"
      ]
    },
    {
      "cell_type": "markdown",
      "metadata": {
        "id": "Yv-FNYTEp0vV"
      },
      "source": [
        "---"
      ],
      "id": "Yv-FNYTEp0vV"
    },
    {
      "cell_type": "markdown",
      "id": "5971f85d",
      "metadata": {
        "id": "5971f85d"
      },
      "source": [
        "### **Пункт №3**"
      ]
    },
    {
      "cell_type": "markdown",
      "id": "b1457074",
      "metadata": {
        "id": "b1457074"
      },
      "source": [
        "Создайте функцию `get_list_element(lst, index)`, которая безопасно извлекает элемент списка по индексу с использованием блоков `try`, `except`, `else` и `finally`.\n",
        "\n",
        "Функция должна:\n",
        "- Обрабатывать выход за пределы списка\n",
        "- Обрабатывать некорректный тип индекса\n",
        "- Выводить сообщение о попытке доступа в блоке `finally`\n",
        "\n",
        "**ОБЯЗАТЕЛЬНО:**\n",
        "- Выведите результаты для минимум 4 различных случаев (успешный доступ, выход за границы, отрицательный индекс, нечисловой индекс)\n",
        "- Покажите, что блок `finally` выполняется всегда\n",
        "\n",
        "```python\n",
        "# Пример использования:\n",
        "my_list = [1, 2, 3, 4, 5]\n",
        "get_list_element(my_list, 2)   # Вывод: \"Элемент: 3\", \"Попытка доступа завершена\"\n",
        "get_list_element(my_list, 10)  # Вывод: \"Индекс вне диапазона\", \"Попытка доступа завершена\"\n",
        "```"
      ]
    },
    {
      "cell_type": "code",
      "execution_count": 15,
      "id": "1c067cf3",
      "metadata": {
        "id": "1c067cf3"
      },
      "outputs": [],
      "source": [
        "def get_list_element(arr, i):\n",
        "  try:\n",
        "    n = arr[i]\n",
        "  except IndexError as e:\n",
        "    print('индекс вне диапазона', end = ', ')\n",
        "  except Exception as e:\n",
        "    print('некорректный индекс', end = ', ')\n",
        "  else:\n",
        "    print(f'элемент: {n}', end = ', ')\n",
        "  finally:\n",
        "    print('попытка доступа завершена')\n",
        "\n"
      ]
    },
    {
      "cell_type": "markdown",
      "id": "b5bb39c7",
      "metadata": {
        "id": "b5bb39c7"
      },
      "source": [
        "---"
      ]
    },
    {
      "cell_type": "markdown",
      "id": "b0972d59",
      "metadata": {
        "id": "b0972d59"
      },
      "source": [
        "## **II. Работа с текстовыми файлами**"
      ]
    },
    {
      "cell_type": "markdown",
      "id": "35729435",
      "metadata": {
        "id": "35729435"
      },
      "source": [
        "### **Пункт №1. Запись в файл**"
      ]
    },
    {
      "cell_type": "markdown",
      "id": "3121365f",
      "metadata": {
        "id": "3121365f"
      },
      "source": [
        "Напишите программу, которая запрашивает у пользователя строку и записывает её в файл output.txt в режиме дозаписи.\n",
        "\n",
        "**ОБЯЗАТЕЛЬНО:**\n",
        "- Запросите у пользователя минимум 3 строки\n",
        "- Покажите содержимое файла после записи"
      ]
    },
    {
      "cell_type": "code",
      "execution_count": 46,
      "id": "cbce6c5f",
      "metadata": {
        "id": "cbce6c5f",
        "colab": {
          "base_uri": "https://localhost:8080/"
        },
        "outputId": "5cb2a8bc-5197-4b89-c19d-25aefedf16ef"
      },
      "outputs": [
        {
          "output_type": "stream",
          "name": "stdout",
          "text": [
            "nhjdkj\n",
            "hvuifshl\n",
            "chudyjuick\n",
            "schijnyuix\n",
            "cfhnxyjurkch\n",
            "cfmghjhcm\n",
            "fxhujcugjdhj\n",
            "cfngyrhjjc\n",
            "chgjyehj\n",
            "ngshjrk\n",
            "content:\n",
            "nhjdkj\n",
            "hvuifshl\n",
            "chudyjuick\n",
            "schijnyuix\n",
            "cfhnxyjurkch\n",
            "cfmghjhcm\n",
            "fxhujcugjdhj\n",
            "cfngyrhjjc\n",
            "chgjyehj\n",
            "ngshjrk\n"
          ]
        }
      ],
      "source": [
        "f = open('output.txt', 'a+')\n",
        "for i in range(10):\n",
        "  f.write(input() + '\\n')\n",
        "f.seek(0)\n",
        "print('content:')\n",
        "for i in f.readlines(): print(i, end = '')\n",
        "f.close()\n",
        "\n"
      ]
    },
    {
      "cell_type": "markdown",
      "id": "361b3d2b",
      "metadata": {
        "id": "361b3d2b"
      },
      "source": [
        "---"
      ]
    },
    {
      "cell_type": "markdown",
      "id": "cce864b4",
      "metadata": {
        "id": "cce864b4"
      },
      "source": [
        "### **Пункт №2. Чтение из файла**"
      ]
    },
    {
      "cell_type": "markdown",
      "id": "4fc83b82",
      "metadata": {
        "id": "4fc83b82"
      },
      "source": [
        "Напишите программу, которая открывает файл output.txt и выводит его содержимое на экран.\n",
        "\n",
        "**ОБЯЗАТЕЛЬНО:**\n",
        "- Создайте файл с минимум 5 строками текста\n",
        "- Покажите содержимое файла целиком\n",
        "- Обработайте случай отсутствующего файла"
      ]
    },
    {
      "cell_type": "code",
      "execution_count": 47,
      "id": "df27a986",
      "metadata": {
        "id": "df27a986",
        "colab": {
          "base_uri": "https://localhost:8080/"
        },
        "outputId": "e6164515-825c-4856-e855-7364cca3f216"
      },
      "outputs": [
        {
          "output_type": "stream",
          "name": "stdout",
          "text": [
            "nhjdkj\n",
            "hvuifshl\n",
            "chudyjuick\n",
            "schijnyuix\n",
            "cfhnxyjurkch\n",
            "cfmghjhcm\n",
            "fxhujcugjdhj\n",
            "cfngyrhjjc\n",
            "chgjyehj\n",
            "ngshjrk\n"
          ]
        }
      ],
      "source": [
        "f = open('output.txt', 'r')\n",
        "for i in f.readlines():\n",
        "  print(i, end = '')\n",
        "f.close()\n"
      ]
    },
    {
      "cell_type": "markdown",
      "id": "2be296a2",
      "metadata": {
        "id": "2be296a2"
      },
      "source": [
        "---"
      ]
    },
    {
      "cell_type": "markdown",
      "id": "045696ba",
      "metadata": {
        "id": "045696ba"
      },
      "source": [
        "### **Пункт №3. Подсчет строк в файле**"
      ]
    },
    {
      "cell_type": "markdown",
      "id": "570ac3e9",
      "metadata": {
        "id": "570ac3e9"
      },
      "source": [
        "Напишите программу, которая открывает файл output.txt и подсчитывает количество строк в нём.\n",
        "\n",
        "**ОБЯЗАТЕЛЬНО:**\n",
        "- Создайте тестовый файл с известным количеством строк (минимум 10)\n",
        "- Покажите первые 3 строки файла\n",
        "- Выведите общее количество строк\n",
        "- Выведите количество непустых строк"
      ]
    },
    {
      "cell_type": "code",
      "execution_count": 48,
      "id": "84aa205a",
      "metadata": {
        "id": "84aa205a",
        "colab": {
          "base_uri": "https://localhost:8080/"
        },
        "outputId": "38e3533f-7950-405a-f13f-9dac4deae9ba"
      },
      "outputs": [
        {
          "output_type": "stream",
          "name": "stdout",
          "text": [
            "nhjdkj\n",
            "hvuifshl\n",
            "chudyjuick\n",
            "всего строк:  10\n",
            "всего непустых:  10\n"
          ]
        }
      ],
      "source": [
        "f = open('output.txt', 'r')\n",
        "for i in f.readlines()[:3:]: print(i, end = '')\n",
        "f.seek(0)\n",
        "print('всего строк: ', len(f.readlines()))\n",
        "f.seek(0)\n",
        "k = [i for i in f if i]\n",
        "print('всего непустых: ', len(k))\n",
        "f.close()"
      ]
    },
    {
      "cell_type": "markdown",
      "id": "94c6dcb0",
      "metadata": {
        "id": "94c6dcb0"
      },
      "source": [
        "---"
      ]
    },
    {
      "cell_type": "markdown",
      "id": "56f2a74e",
      "metadata": {
        "id": "56f2a74e"
      },
      "source": [
        "### **Пункт №4. Копирование содержимого файла**"
      ]
    },
    {
      "cell_type": "markdown",
      "id": "ed736046",
      "metadata": {
        "id": "ed736046"
      },
      "source": [
        "Напишите программу, которая копирует содержимое файла input.txt в файл output.txt.\n",
        "\n",
        "**ОБЯЗАТЕЛЬНО:**\n",
        "- Создайте исходный файл с тестовым содержимым (минимум 5 строк)\n",
        "- Покажите содержимое исходного файла\n",
        "- Выполните копирование\n",
        "- Покажите содержимое скопированного файла\n",
        "- Обработайте случай отсутствия исходного файла"
      ]
    },
    {
      "cell_type": "code",
      "execution_count": 50,
      "id": "31bd8a06",
      "metadata": {
        "id": "31bd8a06",
        "colab": {
          "base_uri": "https://localhost:8080/"
        },
        "outputId": "6c558c18-caad-4ccd-a56b-10b57fb3298a"
      },
      "outputs": [
        {
          "output_type": "stream",
          "name": "stdout",
          "text": [
            "why\n",
            "is this task\n",
            "so\n",
            "inconsistent\n",
            "???? ? ? ? ??? ?? \n",
            "uhh\n",
            "10\n",
            "lines\n",
            "of the sea\n",
            "idk\n",
            "why\n",
            "is this task\n",
            "so\n",
            "inconsistent\n",
            "???? ? ? ? ??? ?? \n",
            "uhh\n",
            "10\n",
            "lines\n",
            "of the sea\n",
            "idk\n"
          ]
        }
      ],
      "source": [
        "from logging import exception\n",
        "try:\n",
        "  i = open(\"input.txt\", 'r')\n",
        "  o = open('output.txt', 'w+')\n",
        "except exception as e:\n",
        "  print(f'nah: {e}')\n",
        "  exit()\n",
        "for k in i: print(k, end='')\n",
        "i.seek(0)\n",
        "o.writelines(i.readlines())\n",
        "o.seek(0)\n",
        "for k in o: print(k, end='')\n",
        "i.close()\n",
        "o.close()"
      ]
    },
    {
      "cell_type": "markdown",
      "id": "2f7c8ee5",
      "metadata": {
        "id": "2f7c8ee5"
      },
      "source": [
        "---"
      ]
    },
    {
      "cell_type": "markdown",
      "id": "70ee398b",
      "metadata": {
        "id": "70ee398b"
      },
      "source": [
        "### **Пункт №5. Поиск слова в файле**"
      ]
    },
    {
      "cell_type": "markdown",
      "id": "c67f8987",
      "metadata": {
        "id": "c67f8987"
      },
      "source": [
        "Напишите программу, которая открывает файл output.txt и проверяет, содержится ли в нём слово, введённое пользователем.\n",
        "\n",
        "**ОБЯЗАТЕЛЬНО:**\n",
        "- Создайте файл с минимум 10 строками текста\n",
        "- Покажите содержимое файла\n",
        "- Протестируйте поиск минимум 5 различных слов\n",
        "- Выведите номера строк, где найдено слово\n",
        "- Покажите количество вхождений слова"
      ]
    },
    {
      "cell_type": "code",
      "execution_count": 53,
      "id": "d961bbf3",
      "metadata": {
        "id": "d961bbf3",
        "colab": {
          "base_uri": "https://localhost:8080/"
        },
        "outputId": "e8abf1fd-a60c-4ea9-fb2d-dc5d90a08a31"
      },
      "outputs": [
        {
          "output_type": "stream",
          "name": "stdout",
          "text": [
            "why\n",
            "is this task\n",
            "so\n",
            "inconsistent\n",
            "???? ? ? ? ??? ?? \n",
            "uhh\n",
            "10\n",
            "lines\n",
            "of the sea\n",
            "idk\n",
            "why\n",
            "found at:  [1]\n",
            "total:  1\n",
            "?\n",
            "found at:  [5]\n",
            "total:  3\n",
            "6\n",
            "not found:  6\n",
            "toal\n",
            "not found:  toal\n",
            "total\n",
            "not found:  total\n"
          ]
        }
      ],
      "source": [
        "f = open('output.txt', 'r')\n",
        "for i in f.readlines(): print(i, end='')\n",
        "f.seek(0)\n",
        "o = f.read().replace('\\n', ' ').split(' ')\n",
        "f.seek(0)\n",
        "o2 = f.read().split('\\n')\n",
        "f.close()\n",
        "\n",
        "for i in range(5):\n",
        "  w = input()\n",
        "  if not o.count(w):\n",
        "    print('not found: ', w)\n",
        "  else:\n",
        "    print('found at: ', [i+1 for i in range(len(o2)) if o2[i].count(w)])\n",
        "    print('total: ', o.count(w))\n"
      ]
    },
    {
      "cell_type": "markdown",
      "id": "0079e067",
      "metadata": {
        "id": "0079e067"
      },
      "source": [
        "### **Пункт №6. Чтение файла с обработкой FileNotFoundError**"
      ]
    },
    {
      "cell_type": "markdown",
      "id": "c3d27312",
      "metadata": {
        "id": "c3d27312"
      },
      "source": [
        "Напишите программу, которая запрашивает у пользователя имя файла и пытается открыть его. Если файла не существует, перехватите FileNotFoundError и выведите сообщение «Файл не найден!».\n",
        "\n",
        "**ОБЯЗАТЕЛЬНО:**\n",
        "- Протестируйте с существующим файлом\n",
        "- Протестируйте с несуществующим файлом\n",
        "- Покажите содержимое существующего файла"
      ]
    },
    {
      "cell_type": "code",
      "execution_count": 54,
      "id": "0c262bd2",
      "metadata": {
        "id": "0c262bd2",
        "colab": {
          "base_uri": "https://localhost:8080/"
        },
        "outputId": "43bd46be-0505-411b-84c2-d7126d75382a"
      },
      "outputs": [
        {
          "output_type": "stream",
          "name": "stdout",
          "text": [
            "john\n",
            "file not found\n",
            "input.txt\n",
            "why\n",
            "is this task\n",
            "so\n",
            "inconsistent\n",
            "???? ? ? ? ??? ?? \n",
            "uhh\n",
            "10\n",
            "lines\n",
            "of the sea\n",
            "idk\n"
          ]
        }
      ],
      "source": [
        "for i in range(2):\n",
        "  name = input()\n",
        "  try:\n",
        "    j = open(name, 'r')\n",
        "  except FileNotFoundError:\n",
        "    print('file not found')\n",
        "  else:\n",
        "    for i in j.readlines():\n",
        "      print(i, end ='')\n"
      ]
    },
    {
      "cell_type": "markdown",
      "id": "c3258b46",
      "metadata": {
        "id": "c3258b46"
      },
      "source": [
        "---"
      ]
    },
    {
      "cell_type": "markdown",
      "id": "02e0767b",
      "metadata": {
        "id": "02e0767b"
      },
      "source": [
        "### **Пункт №7. Подсчет статистики файла**"
      ]
    },
    {
      "cell_type": "markdown",
      "id": "1c33b711",
      "metadata": {
        "id": "1c33b711"
      },
      "source": [
        "Напишите функцию `file_statistics(filename)`, которая читает текстовый файл и возвращает словарь со статистикой:\n",
        "- Количество строк\n",
        "- Количество слов\n",
        "- Количество символов (с пробелами и без)\n",
        "\n",
        "**ОБЯЗАТЕЛЬНО:**\n",
        "- Создайте тестовый файл с минимум 5 строками текста\n",
        "- Выведите содержимое файла ДО обработки\n",
        "- Выведите полученную статистику\n",
        "- Обработайте случай несуществующего файла\n",
        "\n",
        "```python\n",
        "# Создание тестового файла\n",
        "test_content = \"\"\"Первая строка текста\n",
        "Вторая строка с большим количеством слов\n",
        "Третья строка\n",
        "Четвертая строка для теста\n",
        "Пятая и последняя строка\"\"\"\n",
        "\n",
        "# Сохраните в файл и продемонстрируйте работу\n",
        "```"
      ]
    },
    {
      "cell_type": "code",
      "execution_count": 60,
      "id": "43bfd6b8",
      "metadata": {
        "id": "43bfd6b8",
        "colab": {
          "base_uri": "https://localhost:8080/"
        },
        "outputId": "2ac3f468-fd50-402c-e2b5-cc112abec048"
      },
      "outputs": [
        {
          "output_type": "stream",
          "name": "stdout",
          "text": [
            "why\n",
            "is this task\n",
            "so\n",
            "inconsistent\n",
            "???? ? ? ? ??? ?? \n",
            "uhh\n",
            "10\n",
            "lines\n",
            "of the sea\n",
            "idk\n",
            "\n",
            "None\n",
            "{'lines': 10, 'words': 21, 'symbols': 70}\n"
          ]
        }
      ],
      "source": [
        "def file_statistics(name):\n",
        "  try:\n",
        "    f = open(name, 'r')\n",
        "  except FileNotFoundError:\n",
        "    return None\n",
        "  else:\n",
        "    d = {}\n",
        "    d['lines'] = len(f.readlines())\n",
        "    f.seek(0)\n",
        "    d['words'] = len(f.read().replace('\\n', ' ').split(' '))\n",
        "    f.seek(0)\n",
        "    d['symbols'] = len([i for i in f.read() if not i == '\\n'])\n",
        "    f.close()\n",
        "    return d\n",
        "\n",
        "o = open('input.txt', 'r')\n",
        "for i in o.read().split('\\n'): print(i)\n",
        "o.close()\n",
        "\n",
        "print(file_statistics('john'))\n",
        "print(file_statistics('input.txt'))"
      ]
    },
    {
      "cell_type": "markdown",
      "id": "903281dd",
      "metadata": {
        "id": "903281dd"
      },
      "source": [
        "---"
      ]
    },
    {
      "cell_type": "markdown",
      "id": "ad8b4ae4",
      "metadata": {
        "id": "ad8b4ae4"
      },
      "source": [
        "### **Пункт №8. Поиск и замена в файле**"
      ]
    },
    {
      "cell_type": "markdown",
      "id": "e5230d0a",
      "metadata": {
        "id": "e5230d0a"
      },
      "source": [
        "Напишите функцию `replace_in_file(filename, old_text, new_text)`, которая заменяет все вхождения `old_text` на `new_text` в файле и сохраняет результат в новый файл с префиксом \"modified_\".\n",
        "\n",
        "**ОБЯЗАТЕЛЬНО:**\n",
        "- Создайте файл с текстом, содержащим минимум 3 вхождения заменяемого слова\n",
        "- Выведите содержимое файла ДО замены\n",
        "- Выполните замену\n",
        "- Выведите содержимое файла ПОСЛЕ замены\n",
        "- Покажите количество произведенных замен"
      ]
    },
    {
      "cell_type": "code",
      "execution_count": 62,
      "id": "64a05e35",
      "metadata": {
        "id": "64a05e35",
        "colab": {
          "base_uri": "https://localhost:8080/"
        },
        "outputId": "1c8d9187-a49a-41fb-f955-aef0ee096630"
      },
      "outputs": [
        {
          "output_type": "stream",
          "name": "stdout",
          "text": [
            "why\n",
            "is this task\n",
            "so\n",
            "inconsistent\n",
            "???? ? ? ? ??? ?? \n",
            "uhh\n",
            "10\n",
            "lines\n",
            "of the sea\n",
            "idk\n",
            "\n",
            "why\n",
            "is this task\n",
            "so\n",
            "inconsistent\n",
            "nope!nope!nope!nope! nope! nope! nope! nope!nope!nope! nope!nope! \n",
            "uhh\n",
            "10\n",
            "lines\n",
            "of the sea\n",
            "idk\n",
            "\n"
          ]
        }
      ],
      "source": [
        "def replace_in_file(name, old, new):\n",
        "  f = open(name, 'r')\n",
        "  s = f.read()\n",
        "  f.close()\n",
        "  s = s.replace(old, new)\n",
        "  f = open('modified_' + name, 'w')\n",
        "  f.write(s)\n",
        "  f.close()\n",
        "\n",
        "f = open('input.txt', 'r')\n",
        "for i in f.read().split('\\n'): print(i)\n",
        "f.close()\n",
        "replace_in_file('input.txt', '?', 'nope!')\n",
        "f = open('modified_input.txt', 'r')\n",
        "for i in f.read().split('\\n'): print(i)\n",
        "f.close()\n"
      ]
    },
    {
      "cell_type": "markdown",
      "id": "f77b0568",
      "metadata": {
        "id": "f77b0568"
      },
      "source": [
        "---"
      ]
    },
    {
      "cell_type": "markdown",
      "id": "79a081b1",
      "metadata": {
        "id": "79a081b1"
      },
      "source": [
        "### **Пункт №9. Объединение файлов**"
      ]
    },
    {
      "cell_type": "markdown",
      "id": "599cee3c",
      "metadata": {
        "id": "599cee3c"
      },
      "source": [
        "Создайте функцию `merge_files(file_list, output_file)`, которая объединяет содержимое нескольких текстовых файлов в один, добавляя после каждого разделитель.\n",
        "\n",
        "**ОБЯЗАТЕЛЬНО:**\n",
        "- Создайте минимум 3 файла с разным содержимым\n",
        "- Выведите содержимое КАЖДОГО исходного файла\n",
        "- Выполните объединение\n",
        "- Выведите содержимое результирующего файла"
      ]
    },
    {
      "cell_type": "code",
      "execution_count": 80,
      "id": "581b5868",
      "metadata": {
        "id": "581b5868",
        "colab": {
          "base_uri": "https://localhost:8080/"
        },
        "outputId": "564b3cf3-00be-4199-9cfb-8a286f9150ff"
      },
      "outputs": [
        {
          "output_type": "stream",
          "name": "stdout",
          "text": [
            "why\n",
            "is this task\n",
            "so\n",
            "inconsistent\n",
            "???? ? ? ? ??? ?? \n",
            "uhh\n",
            "10\n",
            "lines\n",
            "of the sea\n",
            "idk\n",
            "\n",
            "why\n",
            "is this task\n",
            "so\n",
            "inconsistent\n",
            "nope!nope!nope!nope! nope! nope! nope! nope!nope!nope! nope!nope! \n",
            "uhh\n",
            "10\n",
            "lines\n",
            "of the sea\n",
            "idk\n",
            "\n",
            "QqQqQqQqQq\n",
            "QQQQQQQQQQQQ\n"
          ]
        }
      ],
      "source": [
        "def merge_files(lst, out):\n",
        "  r = ''\n",
        "  for i in lst:\n",
        "    f = open(i, 'r')\n",
        "    r += f.read()\n",
        "    f.seek(0)\n",
        "    for i in f.read().split('\\n'): print(i)\n",
        "    f.close()\n",
        "  o = open(out, 'w')\n",
        "  o.write(r)\n",
        "  o.close()\n",
        "\n",
        "merge_files(['input.txt', 'modified_input.txt', 'q'], 'out.txt')\n"
      ]
    },
    {
      "cell_type": "markdown",
      "id": "eb866091",
      "metadata": {
        "id": "eb866091"
      },
      "source": [
        "---"
      ]
    }
  ],
  "metadata": {
    "colab": {
      "provenance": [],
      "include_colab_link": true
    },
    "language_info": {
      "name": "python"
    },
    "kernelspec": {
      "name": "python3",
      "display_name": "Python 3"
    }
  },
  "nbformat": 4,
  "nbformat_minor": 5
}